{
 "cells": [
  {
   "cell_type": "code",
   "execution_count": 1,
   "id": "de6b2046",
   "metadata": {},
   "outputs": [
    {
     "name": "stdout",
     "output_type": "stream",
     "text": [
      "Once deleted, variables cannot be recovered. Proceed (y/[n])? y\n"
     ]
    }
   ],
   "source": [
    "%reset"
   ]
  },
  {
   "cell_type": "code",
   "execution_count": 2,
   "id": "166b3698",
   "metadata": {},
   "outputs": [],
   "source": [
    "import mlflow\n",
    "import numpy as np\n",
    "import re\n",
    "import pandas as pd\n",
    "import pickle\n",
    "import time\n",
    "\n",
    "from nltk.tokenize import word_tokenize\n",
    "from sklearn.ensemble import RandomForestClassifier\n",
    "from sklearn.linear_model import LogisticRegression\n",
    "from sklearn.metrics import accuracy_score, f1_score, precision_score, recall_score\n",
    "from sklearn.model_selection import train_test_split\n",
    "from sklearn.multiclass import OneVsRestClassifier\n",
    "from xgboost import XGBClassifier"
   ]
  },
  {
   "cell_type": "code",
   "execution_count": 3,
   "id": "21ea904e",
   "metadata": {},
   "outputs": [],
   "source": [
    "tags = [\n",
    "    'javascript',\n",
    "    'python',\n",
    "    'java',\n",
    "    'c_sharp',\n",
    "    'php',\n",
    "    'android',\n",
    "    'html',\n",
    "    'jquery',\n",
    "    'c_plus_plus',\n",
    "    'css',\n",
    "    'ios',\n",
    "    'sql',\n",
    "    'mysql',\n",
    "    'r',\n",
    "    'reactjs',\n",
    "    'node_js',\n",
    "    'arrays',\n",
    "    'c',\n",
    "    'asp_net',\n",
    "    'json'\n",
    "]\n",
    "\n",
    "X_tf_idf = pd.read_csv(\"X_tf_idf.csv\")\n",
    "X_word2vec = pd.read_csv(\"X_word2vec.csv\")\n",
    "X_bert = pd.read_csv(\"X_bert.csv\")\n",
    "X_use = pd.read_csv(\"X_use.csv\")\n",
    "\n",
    "df = pd.read_csv(\"Question Extraction V05 year.csv\")\n",
    "\n",
    "y = df[tags]\n",
    "\n",
    "title_vectorizer = pickle.load(open(\"title_vectorizer.sav\", \"rb\"))\n",
    "body_vectorizer = pickle.load(open(\"body_vectorizer.sav\", \"rb\"))\n",
    "\n",
    "\n",
    "# We need this function to evaluate data drift.\n",
    "def clean_for_tf_idf(document):    \n",
    "    TO_CONVERT = {\n",
    "        'c#': 'csharp',\n",
    "        'c++': 'cplusplus',\n",
    "        'asp.net': 'aspdotnet',\n",
    "        'node.js': 'nodejs'\n",
    "    }\n",
    "    \n",
    "    def convert(string, to_convert=TO_CONVERT):\n",
    "        for key, value in to_convert.items():\n",
    "            string = string.replace(key, value)\n",
    "        return string\n",
    "    \n",
    "    \n",
    "    def remove_html_tags(string):\n",
    "        html_tags = [\n",
    "            '<blockquote>',\n",
    "            '</blockquote>',\n",
    "            '<br>',\n",
    "            '</br>',\n",
    "            '<code>',\n",
    "            '</code>',\n",
    "            '<em>',\n",
    "            '</em>',\n",
    "            '<p>',\n",
    "            '</p>',\n",
    "            '<pre>',\n",
    "            '</pre>',\n",
    "            '<strong>',\n",
    "            '</strong>'\n",
    "        ]\n",
    "        for html_tag in html_tags:\n",
    "            string = string.replace(html_tag, ' ')\n",
    "        return string\n",
    "    \n",
    "    def keep_only_wanted_chars(string):\n",
    "        string = re.sub(r'[^a-zA-Z\\.,:;?!\\']', ' ', string)\n",
    "        return string\n",
    "    \n",
    "    TO_CONVERT_POST_TOKENIZATION = {\n",
    "        'c': 'clanguage',\n",
    "        'r': 'rlanguage'\n",
    "    }\n",
    "    \n",
    "    def convert_post_tokenization(tokens, to_convert_post_tokenization=TO_CONVERT_POST_TOKENIZATION):\n",
    "        for key, value in to_convert_post_tokenization.items():\n",
    "            for i, token in enumerate(tokens):\n",
    "                if token == key:\n",
    "                    tokens[i] = value\n",
    "        return tokens\n",
    "    \n",
    "    document = document.lower()\n",
    "    document = convert(document)\n",
    "    document = remove_html_tags(document)\n",
    "    document = keep_only_wanted_chars(document)\n",
    "    document = word_tokenize(document)\n",
    "    document = convert_post_tokenization(document)\n",
    "    document = ' '.join(document)\n",
    "    return document\n",
    "\n",
    "\n",
    "# We need this function to evaluate data drift.\n",
    "def get_X_tf_idf(df, title_vectorizer, body_vectorizer):\n",
    "    cleaned_title = df['Title'].apply(clean_for_tf_idf)\n",
    "    title_tf_idf_features = title_vectorizer.transform(cleaned_title)\n",
    "    \n",
    "    title_tf_idf_features_df = pd.DataFrame(\n",
    "        data=title_tf_idf_features.toarray(),\n",
    "        columns=['title_' + feature_name for feature_name in title_vectorizer.get_feature_names_out()]\n",
    "    )\n",
    "    \n",
    "    cleaned_body = df['Body'].apply(clean_for_tf_idf)\n",
    "    body_tf_idf_features = body_vectorizer.transform(cleaned_body)\n",
    "\n",
    "    body_tf_idf_features_df = pd.DataFrame(\n",
    "        data=body_tf_idf_features.toarray(),\n",
    "        columns=['body_' + feature_name for feature_name in body_vectorizer.get_feature_names_out()]\n",
    "    )\n",
    "\n",
    "    X_tf_idf = pd.concat(\n",
    "        [\n",
    "            title_tf_idf_features_df,\n",
    "            body_tf_idf_features_df\n",
    "        ],\n",
    "        axis=1\n",
    "    )\n",
    "    \n",
    "    return X_tf_idf"
   ]
  },
  {
   "cell_type": "code",
   "execution_count": 4,
   "id": "a13407a1",
   "metadata": {},
   "outputs": [],
   "source": [
    "test_size = .2\n",
    "\n",
    "X_tf_idf_train,   X_tf_idf_test,   _,       __     = train_test_split(X_tf_idf,   y, test_size=test_size, random_state=0)\n",
    "X_word2vec_train, X_word2vec_test, _,       __     = train_test_split(X_word2vec, y, test_size=test_size, random_state=0)\n",
    "X_bert_train,     X_bert_test,     _,       __     = train_test_split(X_bert,     y, test_size=test_size, random_state=0)\n",
    "X_use_train,      X_use_test,      y_train, y_test = train_test_split(X_use,      y, test_size=test_size, random_state=0)"
   ]
  },
  {
   "cell_type": "code",
   "execution_count": 5,
   "id": "dd6ad8e0",
   "metadata": {},
   "outputs": [],
   "source": [
    "URI = \"http://127.0.0.1:8080\"\n",
    "\n",
    "client = mlflow.MlflowClient(tracking_uri=URI)\n",
    "\n",
    "# Provide an Experiment description that will appear in the UI\n",
    "experiment_description = (\n",
    "    \"\"\"Tag prediction V22. Comparing embeddings: tf-idf, Word2Vec, BERT, USE.\n",
    "    Comparing models: Logistic Regression, Random Forest, XGBoost.\n",
    "    \"\"\"\n",
    ")\n",
    "\n",
    "# Provide searchable tabs that define characteristics of the Runs\n",
    "# that will be in this Experiment\n",
    "experiment_tags = {\n",
    "    \"project_name\": \"stackoverflow_tagging\",\n",
    "    \"mlflow.note.content\": experiment_description\n",
    "}\n",
    "\n",
    "# Create the Experiment, providing a unique name\n",
    "experiment_name = \"tag_prediction_v22\"\n",
    "if not client.get_experiment_by_name(experiment_name):\n",
    "    client.create_experiment(name=experiment_name, tags=experiment_tags)\n",
    "\n",
    "mlflow.set_tracking_uri(URI)\n",
    "\n",
    "# Sets the current active experiment and\n",
    "# returns the Experiment metadata\n",
    "experiment = mlflow.set_experiment(experiment_name)\n",
    "\n",
    "# Define a run name for this iteration of training.\n",
    "# If this is not set, a unique name will be auto-generated for your run.\n",
    "\n",
    "# Define an artifact path that the model will be saved to.\n",
    "artifact_path = \"tag_prediction_22_artifact_path\""
   ]
  },
  {
   "cell_type": "code",
   "execution_count": 6,
   "id": "0d8354c7",
   "metadata": {
    "scrolled": false
   },
   "outputs": [
    {
     "name": "stdout",
     "output_type": "stream",
     "text": [
      "run name: tf_idf_default_logistic_regression.\n",
      "{'fit_duration': 29.998541116714478, 'pred_duration': 1.1015269756317139, 'f1': 0.696149843912591, 'precision': 0.9304589707927677, 'recall': 0.5561097256857855}\n"
     ]
    },
    {
     "name": "stderr",
     "output_type": "stream",
     "text": [
      "/Users/alexandreselier/.pyenv/versions/3.10.6/envs/lewagon_current/lib/python3.10/site-packages/_distutils_hack/__init__.py:18: UserWarning: Distutils was imported before Setuptools, but importing Setuptools also replaces the `distutils` module in `sys.modules`. This may lead to undesirable behaviors or errors. To avoid these issues, avoid using distutils directly, ensure that setuptools is installed in the traditional way (e.g. not an editable install), and/or make sure that setuptools is always imported before distutils.\n",
      "  warnings.warn(\n",
      "/Users/alexandreselier/.pyenv/versions/3.10.6/envs/lewagon_current/lib/python3.10/site-packages/_distutils_hack/__init__.py:33: UserWarning: Setuptools is replacing distutils.\n",
      "  warnings.warn(\"Setuptools is replacing distutils.\")\n"
     ]
    },
    {
     "name": "stdout",
     "output_type": "stream",
     "text": [
      "run name: tf_idf_default_random_forest.\n",
      "{'fit_duration': 16.30429196357727, 'pred_duration': 0.33971571922302246, 'f1': 0.6949420442571128, 'precision': 0.9489208633093525, 'recall': 0.5482128013300083}\n"
     ]
    },
    {
     "name": "stderr",
     "output_type": "stream",
     "text": [
      "/Users/alexandreselier/.pyenv/versions/3.10.6/envs/lewagon_current/lib/python3.10/site-packages/_distutils_hack/__init__.py:18: UserWarning: Distutils was imported before Setuptools, but importing Setuptools also replaces the `distutils` module in `sys.modules`. This may lead to undesirable behaviors or errors. To avoid these issues, avoid using distutils directly, ensure that setuptools is installed in the traditional way (e.g. not an editable install), and/or make sure that setuptools is always imported before distutils.\n",
      "  warnings.warn(\n",
      "/Users/alexandreselier/.pyenv/versions/3.10.6/envs/lewagon_current/lib/python3.10/site-packages/_distutils_hack/__init__.py:33: UserWarning: Setuptools is replacing distutils.\n",
      "  warnings.warn(\"Setuptools is replacing distutils.\")\n"
     ]
    },
    {
     "name": "stdout",
     "output_type": "stream",
     "text": [
      "run name: tf_idf_default_xgboost.\n",
      "{'fit_duration': 661.0124881267548, 'pred_duration': 0.25377511978149414, 'f1': 0.7944954128440368, 'precision': 0.8863868986693961, 'recall': 0.7198669991687449}\n"
     ]
    },
    {
     "name": "stderr",
     "output_type": "stream",
     "text": [
      "/Users/alexandreselier/.pyenv/versions/3.10.6/envs/lewagon_current/lib/python3.10/site-packages/_distutils_hack/__init__.py:18: UserWarning: Distutils was imported before Setuptools, but importing Setuptools also replaces the `distutils` module in `sys.modules`. This may lead to undesirable behaviors or errors. To avoid these issues, avoid using distutils directly, ensure that setuptools is installed in the traditional way (e.g. not an editable install), and/or make sure that setuptools is always imported before distutils.\n",
      "  warnings.warn(\n",
      "/Users/alexandreselier/.pyenv/versions/3.10.6/envs/lewagon_current/lib/python3.10/site-packages/_distutils_hack/__init__.py:33: UserWarning: Setuptools is replacing distutils.\n",
      "  warnings.warn(\"Setuptools is replacing distutils.\")\n"
     ]
    },
    {
     "name": "stdout",
     "output_type": "stream",
     "text": [
      "run name: word2vec_default_logistic_regression.\n",
      "{'fit_duration': 2.271435022354126, 'pred_duration': 0.09805178642272949, 'f1': 0.49188072040153524, 'precision': 0.8491335372069317, 'recall': 0.3462177888611804}\n"
     ]
    },
    {
     "name": "stderr",
     "output_type": "stream",
     "text": [
      "/Users/alexandreselier/.pyenv/versions/3.10.6/envs/lewagon_current/lib/python3.10/site-packages/_distutils_hack/__init__.py:18: UserWarning: Distutils was imported before Setuptools, but importing Setuptools also replaces the `distutils` module in `sys.modules`. This may lead to undesirable behaviors or errors. To avoid these issues, avoid using distutils directly, ensure that setuptools is installed in the traditional way (e.g. not an editable install), and/or make sure that setuptools is always imported before distutils.\n",
      "  warnings.warn(\n",
      "/Users/alexandreselier/.pyenv/versions/3.10.6/envs/lewagon_current/lib/python3.10/site-packages/_distutils_hack/__init__.py:33: UserWarning: Setuptools is replacing distutils.\n",
      "  warnings.warn(\"Setuptools is replacing distutils.\")\n"
     ]
    },
    {
     "name": "stdout",
     "output_type": "stream",
     "text": [
      "run name: word2vec_default_random_forest.\n",
      "{'fit_duration': 23.58149814605713, 'pred_duration': 0.2214362621307373, 'f1': 0.1029874213836478, 'precision': 0.9492753623188406, 'recall': 0.054447215295095594}\n"
     ]
    },
    {
     "name": "stderr",
     "output_type": "stream",
     "text": [
      "/Users/alexandreselier/.pyenv/versions/3.10.6/envs/lewagon_current/lib/python3.10/site-packages/_distutils_hack/__init__.py:18: UserWarning: Distutils was imported before Setuptools, but importing Setuptools also replaces the `distutils` module in `sys.modules`. This may lead to undesirable behaviors or errors. To avoid these issues, avoid using distutils directly, ensure that setuptools is installed in the traditional way (e.g. not an editable install), and/or make sure that setuptools is always imported before distutils.\n",
      "  warnings.warn(\n",
      "/Users/alexandreselier/.pyenv/versions/3.10.6/envs/lewagon_current/lib/python3.10/site-packages/_distutils_hack/__init__.py:33: UserWarning: Setuptools is replacing distutils.\n",
      "  warnings.warn(\"Setuptools is replacing distutils.\")\n"
     ]
    },
    {
     "name": "stdout",
     "output_type": "stream",
     "text": [
      "run name: word2vec_default_xgboost.\n",
      "{'fit_duration': 158.26194214820862, 'pred_duration': 0.039849042892456055, 'f1': 0.4904420549581841, 'precision': 0.8715498938428875, 'recall': 0.3412302576891106}\n"
     ]
    },
    {
     "name": "stderr",
     "output_type": "stream",
     "text": [
      "/Users/alexandreselier/.pyenv/versions/3.10.6/envs/lewagon_current/lib/python3.10/site-packages/sklearn/linear_model/_logistic.py:444: ConvergenceWarning: lbfgs failed to converge (status=1):\n",
      "STOP: TOTAL NO. of ITERATIONS REACHED LIMIT.\n",
      "\n",
      "Increase the number of iterations (max_iter) or scale the data as shown in:\n",
      "    https://scikit-learn.org/stable/modules/preprocessing.html\n",
      "Please also refer to the documentation for alternative solver options:\n",
      "    https://scikit-learn.org/stable/modules/linear_model.html#logistic-regression\n",
      "  n_iter_i = _check_optimize_result(\n",
      "/Users/alexandreselier/.pyenv/versions/3.10.6/envs/lewagon_current/lib/python3.10/site-packages/sklearn/linear_model/_logistic.py:444: ConvergenceWarning: lbfgs failed to converge (status=1):\n",
      "STOP: TOTAL NO. of ITERATIONS REACHED LIMIT.\n",
      "\n",
      "Increase the number of iterations (max_iter) or scale the data as shown in:\n",
      "    https://scikit-learn.org/stable/modules/preprocessing.html\n",
      "Please also refer to the documentation for alternative solver options:\n",
      "    https://scikit-learn.org/stable/modules/linear_model.html#logistic-regression\n",
      "  n_iter_i = _check_optimize_result(\n",
      "/Users/alexandreselier/.pyenv/versions/3.10.6/envs/lewagon_current/lib/python3.10/site-packages/_distutils_hack/__init__.py:18: UserWarning: Distutils was imported before Setuptools, but importing Setuptools also replaces the `distutils` module in `sys.modules`. This may lead to undesirable behaviors or errors. To avoid these issues, avoid using distutils directly, ensure that setuptools is installed in the traditional way (e.g. not an editable install), and/or make sure that setuptools is always imported before distutils.\n",
      "  warnings.warn(\n",
      "/Users/alexandreselier/.pyenv/versions/3.10.6/envs/lewagon_current/lib/python3.10/site-packages/_distutils_hack/__init__.py:33: UserWarning: Setuptools is replacing distutils.\n",
      "  warnings.warn(\"Setuptools is replacing distutils.\")\n"
     ]
    },
    {
     "name": "stdout",
     "output_type": "stream",
     "text": [
      "run name: bert_default_logistic_regression.\n",
      "{'fit_duration': 4.847101926803589, 'pred_duration': 0.20867085456848145, 'f1': 0.7445023804126049, 'precision': 0.8189526184538654, 'recall': 0.6824605153782212}\n"
     ]
    },
    {
     "name": "stderr",
     "output_type": "stream",
     "text": [
      "/Users/alexandreselier/.pyenv/versions/3.10.6/envs/lewagon_current/lib/python3.10/site-packages/_distutils_hack/__init__.py:18: UserWarning: Distutils was imported before Setuptools, but importing Setuptools also replaces the `distutils` module in `sys.modules`. This may lead to undesirable behaviors or errors. To avoid these issues, avoid using distutils directly, ensure that setuptools is installed in the traditional way (e.g. not an editable install), and/or make sure that setuptools is always imported before distutils.\n",
      "  warnings.warn(\n",
      "/Users/alexandreselier/.pyenv/versions/3.10.6/envs/lewagon_current/lib/python3.10/site-packages/_distutils_hack/__init__.py:33: UserWarning: Setuptools is replacing distutils.\n",
      "  warnings.warn(\"Setuptools is replacing distutils.\")\n"
     ]
    },
    {
     "name": "stdout",
     "output_type": "stream",
     "text": [
      "run name: bert_default_random_forest.\n",
      "{'fit_duration': 34.03657412528992, 'pred_duration': 0.2379012107849121, 'f1': 0.13779830638953042, 'precision': 0.9322916666666666, 'recall': 0.0743973399833749}\n"
     ]
    },
    {
     "name": "stderr",
     "output_type": "stream",
     "text": [
      "/Users/alexandreselier/.pyenv/versions/3.10.6/envs/lewagon_current/lib/python3.10/site-packages/_distutils_hack/__init__.py:18: UserWarning: Distutils was imported before Setuptools, but importing Setuptools also replaces the `distutils` module in `sys.modules`. This may lead to undesirable behaviors or errors. To avoid these issues, avoid using distutils directly, ensure that setuptools is installed in the traditional way (e.g. not an editable install), and/or make sure that setuptools is always imported before distutils.\n",
      "  warnings.warn(\n",
      "/Users/alexandreselier/.pyenv/versions/3.10.6/envs/lewagon_current/lib/python3.10/site-packages/_distutils_hack/__init__.py:33: UserWarning: Setuptools is replacing distutils.\n",
      "  warnings.warn(\"Setuptools is replacing distutils.\")\n"
     ]
    },
    {
     "name": "stdout",
     "output_type": "stream",
     "text": [
      "run name: bert_default_xgboost.\n",
      "{'fit_duration': 334.00201988220215, 'pred_duration': 0.07483887672424316, 'f1': 0.6625129802699896, 'precision': 0.8824343015214384, 'recall': 0.5303408146300914}\n"
     ]
    },
    {
     "name": "stderr",
     "output_type": "stream",
     "text": [
      "/Users/alexandreselier/.pyenv/versions/3.10.6/envs/lewagon_current/lib/python3.10/site-packages/_distutils_hack/__init__.py:18: UserWarning: Distutils was imported before Setuptools, but importing Setuptools also replaces the `distutils` module in `sys.modules`. This may lead to undesirable behaviors or errors. To avoid these issues, avoid using distutils directly, ensure that setuptools is installed in the traditional way (e.g. not an editable install), and/or make sure that setuptools is always imported before distutils.\n",
      "  warnings.warn(\n",
      "/Users/alexandreselier/.pyenv/versions/3.10.6/envs/lewagon_current/lib/python3.10/site-packages/_distutils_hack/__init__.py:33: UserWarning: Setuptools is replacing distutils.\n",
      "  warnings.warn(\"Setuptools is replacing distutils.\")\n"
     ]
    },
    {
     "name": "stdout",
     "output_type": "stream",
     "text": [
      "run name: use_default_logistic_regression.\n",
      "{'fit_duration': 8.170687913894653, 'pred_duration': 0.4488089084625244, 'f1': 0.6956077630234934, 'precision': 0.9019867549668874, 'recall': 0.5660847880299252}\n"
     ]
    },
    {
     "name": "stderr",
     "output_type": "stream",
     "text": [
      "/Users/alexandreselier/.pyenv/versions/3.10.6/envs/lewagon_current/lib/python3.10/site-packages/_distutils_hack/__init__.py:18: UserWarning: Distutils was imported before Setuptools, but importing Setuptools also replaces the `distutils` module in `sys.modules`. This may lead to undesirable behaviors or errors. To avoid these issues, avoid using distutils directly, ensure that setuptools is installed in the traditional way (e.g. not an editable install), and/or make sure that setuptools is always imported before distutils.\n",
      "  warnings.warn(\n",
      "/Users/alexandreselier/.pyenv/versions/3.10.6/envs/lewagon_current/lib/python3.10/site-packages/_distutils_hack/__init__.py:33: UserWarning: Setuptools is replacing distutils.\n",
      "  warnings.warn(\"Setuptools is replacing distutils.\")\n"
     ]
    },
    {
     "name": "stdout",
     "output_type": "stream",
     "text": [
      "run name: use_default_random_forest.\n",
      "{'fit_duration': 58.13931584358215, 'pred_duration': 0.34099888801574707, 'f1': 0.0462287104622871, 'precision': 0.95, 'recall': 0.02369077306733167}\n"
     ]
    },
    {
     "name": "stderr",
     "output_type": "stream",
     "text": [
      "/Users/alexandreselier/.pyenv/versions/3.10.6/envs/lewagon_current/lib/python3.10/site-packages/_distutils_hack/__init__.py:18: UserWarning: Distutils was imported before Setuptools, but importing Setuptools also replaces the `distutils` module in `sys.modules`. This may lead to undesirable behaviors or errors. To avoid these issues, avoid using distutils directly, ensure that setuptools is installed in the traditional way (e.g. not an editable install), and/or make sure that setuptools is always imported before distutils.\n",
      "  warnings.warn(\n",
      "/Users/alexandreselier/.pyenv/versions/3.10.6/envs/lewagon_current/lib/python3.10/site-packages/_distutils_hack/__init__.py:33: UserWarning: Setuptools is replacing distutils.\n",
      "  warnings.warn(\"Setuptools is replacing distutils.\")\n"
     ]
    },
    {
     "name": "stdout",
     "output_type": "stream",
     "text": [
      "run name: use_default_xgboost.\n",
      "{'fit_duration': 767.6096248626709, 'pred_duration': 0.13119292259216309, 'f1': 0.6347402597402597, 'precision': 0.9093023255813953, 'recall': 0.48753117206982544}\n"
     ]
    }
   ],
   "source": [
    "for embeddings_name in ['tf_idf', 'word2vec', 'bert', 'use']:\n",
    "    for model_name in ['logistic_regression', 'random_forest', 'xgboost']:\n",
    "                \n",
    "        run_name = embeddings_name + '_default_' + model_name\n",
    "        \n",
    "        params = {'embeddings_name': embeddings_name, 'model_name': model_name}\n",
    "\n",
    "        if embeddings_name == 'tf_idf':\n",
    "            X_train, X_test = X_tf_idf_train, X_tf_idf_test\n",
    "        elif embeddings_name == 'word2vec':\n",
    "            X_train, X_test = X_word2vec_train, X_word2vec_test\n",
    "        elif embeddings_name == 'bert':\n",
    "            X_train, X_test = X_bert_train, X_bert_test\n",
    "        else:\n",
    "            X_train, X_test = X_use_train, X_use_test\n",
    "\n",
    "        if model_name == 'logistic_regression':\n",
    "            model = OneVsRestClassifier(LogisticRegression(random_state=0))\n",
    "        elif model_name == 'random_forest':\n",
    "            model = RandomForestClassifier(random_state=0)\n",
    "        else:\n",
    "            model = XGBClassifier(random_state=0)\n",
    "        \n",
    "        fit_start = time.time()\n",
    "        model.fit(X_train, y_train)\n",
    "        fit_duration = time.time() - fit_start\n",
    "        \n",
    "        pred_start = time.time()\n",
    "        y_pred = model.predict(X_test)\n",
    "        pred_duration = time.time() - pred_start\n",
    "        \n",
    "        f1 = f1_score(y_test, y_pred, average='micro')\n",
    "        precision = precision_score(y_test, y_pred, average='micro')\n",
    "        recall = recall_score(y_test, y_pred, average='micro')\n",
    "        \n",
    "        metrics = {\n",
    "            'fit_duration': fit_duration, 'pred_duration': pred_duration,\n",
    "            'f1': f1, 'precision': precision, 'recall': recall\n",
    "        }\n",
    "        \n",
    "        with mlflow.start_run(run_name=run_name) as run:\n",
    "            mlflow.log_params(params)\n",
    "            mlflow.log_metrics(metrics)\n",
    "            mlflow.sklearn.log_model(\n",
    "                sk_model=model, input_example=X_test, artifact_path=artifact_path\n",
    "            )\n",
    "        print(f\"run name: {run_name}.\")\n",
    "        print(metrics)"
   ]
  },
  {
   "cell_type": "code",
   "execution_count": 7,
   "id": "fc890ddf",
   "metadata": {},
   "outputs": [],
   "source": [
    "# Best model so far is tf_idf_default_xgboost."
   ]
  },
  {
   "cell_type": "markdown",
   "id": "63bfc85f",
   "metadata": {},
   "source": [
    "# Model fine-tuning"
   ]
  },
  {
   "cell_type": "code",
   "execution_count": 8,
   "id": "cc20aace",
   "metadata": {},
   "outputs": [],
   "source": [
    "# We want to fine-tune XGBoost but it takes too long to run as is,\n",
    "# because X has 4,000 features. We want to decrease the number of features.\n",
    "# For that we look at the most important features, thanks to the\n",
    "# Logistic Regression model.\n",
    "# For each tag, we keep the 20 features with highest coefficient.\n",
    "# This will give us a smaller X.\n",
    "# We'll then be able to fine-tune XGBoost on that smaller X."
   ]
  },
  {
   "cell_type": "code",
   "execution_count": 10,
   "id": "3997907a",
   "metadata": {},
   "outputs": [],
   "source": [
    "def get_most_important_features(lr_model, X, tags=tags, n_features_per_tag=20):\n",
    "    most_important_features = set()\n",
    "    for i, tag in enumerate(tags):\n",
    "        coefs = lr_model.estimators_[i].coef_[0]\n",
    "        feature_importance_for_that_tag = pd.Series(\n",
    "            data=coefs,\n",
    "            index=X.columns\n",
    "        )\n",
    "        \n",
    "        important_features_for_that_tag = set(feature_importance_for_that_tag.sort_values(ascending=False).head(n_features_per_tag).index)\n",
    "        most_important_features = most_important_features.union(important_features_for_that_tag)\n",
    "    most_important_features = list(most_important_features)\n",
    "    return most_important_features"
   ]
  },
  {
   "cell_type": "code",
   "execution_count": 11,
   "id": "cbc76e17",
   "metadata": {},
   "outputs": [],
   "source": [
    "lr_model_path = 'mlflow-artifacts:/894393323650292179/46163d3705ac467f8a1b2681ddeddfc0/artifacts/tag_prediction_22_artifact_path'"
   ]
  },
  {
   "cell_type": "code",
   "execution_count": 12,
   "id": "db5faf74",
   "metadata": {},
   "outputs": [
    {
     "data": {
      "application/vnd.jupyter.widget-view+json": {
       "model_id": "64a6d1b9cd8f4faa955f4d3abd38313a",
       "version_major": 2,
       "version_minor": 0
      },
      "text/plain": [
       "Downloading artifacts:   0%|          | 0/11 [00:00<?, ?it/s]"
      ]
     },
     "metadata": {},
     "output_type": "display_data"
    },
    {
     "name": "stderr",
     "output_type": "stream",
     "text": [
      "2024/05/03 18:56:57 INFO mlflow.store.artifact.artifact_repo: The progress bar can be disabled by setting the environment variable MLFLOW_ENABLE_ARTIFACTS_PROGRESS_BAR to false\n"
     ]
    }
   ],
   "source": [
    "lr_model = mlflow.sklearn.load_model(lr_model_path)"
   ]
  },
  {
   "cell_type": "code",
   "execution_count": 13,
   "id": "10f23917",
   "metadata": {},
   "outputs": [],
   "source": [
    "most_important_features = get_most_important_features(\n",
    "    lr_model=lr_model,\n",
    "    X=X_tf_idf\n",
    ")"
   ]
  },
  {
   "cell_type": "code",
   "execution_count": 14,
   "id": "cc506079",
   "metadata": {},
   "outputs": [],
   "source": [
    "X_tf_idf_20_train = X_tf_idf_train[most_important_features]\n",
    "X_tf_idf_20_test = X_tf_idf_test[most_important_features]"
   ]
  },
  {
   "cell_type": "code",
   "execution_count": 16,
   "id": "258ca074",
   "metadata": {},
   "outputs": [
    {
     "name": "stderr",
     "output_type": "stream",
     "text": [
      "/Users/alexandreselier/.pyenv/versions/3.10.6/envs/lewagon_current/lib/python3.10/site-packages/_distutils_hack/__init__.py:18: UserWarning: Distutils was imported before Setuptools, but importing Setuptools also replaces the `distutils` module in `sys.modules`. This may lead to undesirable behaviors or errors. To avoid these issues, avoid using distutils directly, ensure that setuptools is installed in the traditional way (e.g. not an editable install), and/or make sure that setuptools is always imported before distutils.\n",
      "  warnings.warn(\n",
      "/Users/alexandreselier/.pyenv/versions/3.10.6/envs/lewagon_current/lib/python3.10/site-packages/_distutils_hack/__init__.py:33: UserWarning: Setuptools is replacing distutils.\n",
      "  warnings.warn(\"Setuptools is replacing distutils.\")\n"
     ]
    },
    {
     "name": "stdout",
     "output_type": "stream",
     "text": [
      "run name: tf_idf_top_20_xgboost_eta_0.1_colsample_bytree_0.5_max_depth_5.\n",
      "{'fit_duration': 25.53102421760559, 'pred_duration': 0.039369821548461914, 'f1': 0.7944508670520231, 'precision': 0.8952579468473163, 'recall': 0.71404821280133}\n"
     ]
    },
    {
     "name": "stderr",
     "output_type": "stream",
     "text": [
      "/Users/alexandreselier/.pyenv/versions/3.10.6/envs/lewagon_current/lib/python3.10/site-packages/_distutils_hack/__init__.py:18: UserWarning: Distutils was imported before Setuptools, but importing Setuptools also replaces the `distutils` module in `sys.modules`. This may lead to undesirable behaviors or errors. To avoid these issues, avoid using distutils directly, ensure that setuptools is installed in the traditional way (e.g. not an editable install), and/or make sure that setuptools is always imported before distutils.\n",
      "  warnings.warn(\n",
      "/Users/alexandreselier/.pyenv/versions/3.10.6/envs/lewagon_current/lib/python3.10/site-packages/_distutils_hack/__init__.py:33: UserWarning: Setuptools is replacing distutils.\n",
      "  warnings.warn(\"Setuptools is replacing distutils.\")\n"
     ]
    },
    {
     "name": "stdout",
     "output_type": "stream",
     "text": [
      "run name: tf_idf_top_20_xgboost_eta_0.1_colsample_bytree_0.5_max_depth_6.\n",
      "{'fit_duration': 32.167316913604736, 'pred_duration': 0.04053688049316406, 'f1': 0.7999080036798527, 'precision': 0.8954685890834192, 'recall': 0.7227763923524522}\n"
     ]
    },
    {
     "name": "stderr",
     "output_type": "stream",
     "text": [
      "/Users/alexandreselier/.pyenv/versions/3.10.6/envs/lewagon_current/lib/python3.10/site-packages/_distutils_hack/__init__.py:18: UserWarning: Distutils was imported before Setuptools, but importing Setuptools also replaces the `distutils` module in `sys.modules`. This may lead to undesirable behaviors or errors. To avoid these issues, avoid using distutils directly, ensure that setuptools is installed in the traditional way (e.g. not an editable install), and/or make sure that setuptools is always imported before distutils.\n",
      "  warnings.warn(\n",
      "/Users/alexandreselier/.pyenv/versions/3.10.6/envs/lewagon_current/lib/python3.10/site-packages/_distutils_hack/__init__.py:33: UserWarning: Setuptools is replacing distutils.\n",
      "  warnings.warn(\"Setuptools is replacing distutils.\")\n"
     ]
    },
    {
     "name": "stdout",
     "output_type": "stream",
     "text": [
      "run name: tf_idf_top_20_xgboost_eta_0.1_colsample_bytree_0.5_max_depth_7.\n",
      "{'fit_duration': 35.078999757766724, 'pred_duration': 0.04546499252319336, 'f1': 0.800274223034735, 'precision': 0.8888324873096447, 'recall': 0.727763923524522}\n"
     ]
    },
    {
     "name": "stderr",
     "output_type": "stream",
     "text": [
      "/Users/alexandreselier/.pyenv/versions/3.10.6/envs/lewagon_current/lib/python3.10/site-packages/_distutils_hack/__init__.py:18: UserWarning: Distutils was imported before Setuptools, but importing Setuptools also replaces the `distutils` module in `sys.modules`. This may lead to undesirable behaviors or errors. To avoid these issues, avoid using distutils directly, ensure that setuptools is installed in the traditional way (e.g. not an editable install), and/or make sure that setuptools is always imported before distutils.\n",
      "  warnings.warn(\n",
      "/Users/alexandreselier/.pyenv/versions/3.10.6/envs/lewagon_current/lib/python3.10/site-packages/_distutils_hack/__init__.py:33: UserWarning: Setuptools is replacing distutils.\n",
      "  warnings.warn(\"Setuptools is replacing distutils.\")\n"
     ]
    },
    {
     "name": "stdout",
     "output_type": "stream",
     "text": [
      "run name: tf_idf_top_20_xgboost_eta_0.1_colsample_bytree_1_max_depth_5.\n",
      "{'fit_duration': 48.62085318565369, 'pred_duration': 0.03552508354187012, 'f1': 0.7925653969710876, 'precision': 0.8847336065573771, 'recall': 0.7177888611803824}\n"
     ]
    },
    {
     "name": "stderr",
     "output_type": "stream",
     "text": [
      "/Users/alexandreselier/.pyenv/versions/3.10.6/envs/lewagon_current/lib/python3.10/site-packages/_distutils_hack/__init__.py:18: UserWarning: Distutils was imported before Setuptools, but importing Setuptools also replaces the `distutils` module in `sys.modules`. This may lead to undesirable behaviors or errors. To avoid these issues, avoid using distutils directly, ensure that setuptools is installed in the traditional way (e.g. not an editable install), and/or make sure that setuptools is always imported before distutils.\n",
      "  warnings.warn(\n",
      "/Users/alexandreselier/.pyenv/versions/3.10.6/envs/lewagon_current/lib/python3.10/site-packages/_distutils_hack/__init__.py:33: UserWarning: Setuptools is replacing distutils.\n",
      "  warnings.warn(\"Setuptools is replacing distutils.\")\n"
     ]
    },
    {
     "name": "stdout",
     "output_type": "stream",
     "text": [
      "run name: tf_idf_top_20_xgboost_eta_0.1_colsample_bytree_1_max_depth_6.\n",
      "{'fit_duration': 58.51288199424744, 'pred_duration': 0.0395350456237793, 'f1': 0.7972540045766591, 'precision': 0.8869653767820774, 'recall': 0.7240232751454697}\n"
     ]
    },
    {
     "name": "stderr",
     "output_type": "stream",
     "text": [
      "/Users/alexandreselier/.pyenv/versions/3.10.6/envs/lewagon_current/lib/python3.10/site-packages/_distutils_hack/__init__.py:18: UserWarning: Distutils was imported before Setuptools, but importing Setuptools also replaces the `distutils` module in `sys.modules`. This may lead to undesirable behaviors or errors. To avoid these issues, avoid using distutils directly, ensure that setuptools is installed in the traditional way (e.g. not an editable install), and/or make sure that setuptools is always imported before distutils.\n",
      "  warnings.warn(\n",
      "/Users/alexandreselier/.pyenv/versions/3.10.6/envs/lewagon_current/lib/python3.10/site-packages/_distutils_hack/__init__.py:33: UserWarning: Setuptools is replacing distutils.\n",
      "  warnings.warn(\"Setuptools is replacing distutils.\")\n"
     ]
    },
    {
     "name": "stdout",
     "output_type": "stream",
     "text": [
      "run name: tf_idf_top_20_xgboost_eta_0.1_colsample_bytree_1_max_depth_7.\n",
      "{'fit_duration': 68.07617998123169, 'pred_duration': 0.04442596435546875, 'f1': 0.797436484321355, 'precision': 0.8874172185430463, 'recall': 0.7240232751454697}\n"
     ]
    },
    {
     "name": "stderr",
     "output_type": "stream",
     "text": [
      "/Users/alexandreselier/.pyenv/versions/3.10.6/envs/lewagon_current/lib/python3.10/site-packages/_distutils_hack/__init__.py:18: UserWarning: Distutils was imported before Setuptools, but importing Setuptools also replaces the `distutils` module in `sys.modules`. This may lead to undesirable behaviors or errors. To avoid these issues, avoid using distutils directly, ensure that setuptools is installed in the traditional way (e.g. not an editable install), and/or make sure that setuptools is always imported before distutils.\n",
      "  warnings.warn(\n",
      "/Users/alexandreselier/.pyenv/versions/3.10.6/envs/lewagon_current/lib/python3.10/site-packages/_distutils_hack/__init__.py:33: UserWarning: Setuptools is replacing distutils.\n",
      "  warnings.warn(\"Setuptools is replacing distutils.\")\n"
     ]
    },
    {
     "name": "stdout",
     "output_type": "stream",
     "text": [
      "run name: tf_idf_top_20_xgboost_eta_0.3_colsample_bytree_0.5_max_depth_5.\n",
      "{'fit_duration': 25.501012086868286, 'pred_duration': 0.03606700897216797, 'f1': 0.8048007246376813, 'precision': 0.8840796019900498, 'recall': 0.7385702410640067}\n"
     ]
    },
    {
     "name": "stderr",
     "output_type": "stream",
     "text": [
      "/Users/alexandreselier/.pyenv/versions/3.10.6/envs/lewagon_current/lib/python3.10/site-packages/_distutils_hack/__init__.py:18: UserWarning: Distutils was imported before Setuptools, but importing Setuptools also replaces the `distutils` module in `sys.modules`. This may lead to undesirable behaviors or errors. To avoid these issues, avoid using distutils directly, ensure that setuptools is installed in the traditional way (e.g. not an editable install), and/or make sure that setuptools is always imported before distutils.\n",
      "  warnings.warn(\n",
      "/Users/alexandreselier/.pyenv/versions/3.10.6/envs/lewagon_current/lib/python3.10/site-packages/_distutils_hack/__init__.py:33: UserWarning: Setuptools is replacing distutils.\n",
      "  warnings.warn(\"Setuptools is replacing distutils.\")\n"
     ]
    },
    {
     "name": "stdout",
     "output_type": "stream",
     "text": [
      "run name: tf_idf_top_20_xgboost_eta_0.3_colsample_bytree_0.5_max_depth_6.\n",
      "{'fit_duration': 31.783084869384766, 'pred_duration': 0.04004812240600586, 'f1': 0.8004519774011299, 'precision': 0.8771669143140168, 'recall': 0.7360764754779717}\n"
     ]
    },
    {
     "name": "stderr",
     "output_type": "stream",
     "text": [
      "/Users/alexandreselier/.pyenv/versions/3.10.6/envs/lewagon_current/lib/python3.10/site-packages/_distutils_hack/__init__.py:18: UserWarning: Distutils was imported before Setuptools, but importing Setuptools also replaces the `distutils` module in `sys.modules`. This may lead to undesirable behaviors or errors. To avoid these issues, avoid using distutils directly, ensure that setuptools is installed in the traditional way (e.g. not an editable install), and/or make sure that setuptools is always imported before distutils.\n",
      "  warnings.warn(\n",
      "/Users/alexandreselier/.pyenv/versions/3.10.6/envs/lewagon_current/lib/python3.10/site-packages/_distutils_hack/__init__.py:33: UserWarning: Setuptools is replacing distutils.\n",
      "  warnings.warn(\"Setuptools is replacing distutils.\")\n"
     ]
    },
    {
     "name": "stdout",
     "output_type": "stream",
     "text": [
      "run name: tf_idf_top_20_xgboost_eta_0.3_colsample_bytree_0.5_max_depth_7.\n",
      "{'fit_duration': 35.09420108795166, 'pred_duration': 0.04622626304626465, 'f1': 0.7963841807909605, 'precision': 0.8727092620108965, 'recall': 0.7323358270989194}\n"
     ]
    },
    {
     "name": "stderr",
     "output_type": "stream",
     "text": [
      "/Users/alexandreselier/.pyenv/versions/3.10.6/envs/lewagon_current/lib/python3.10/site-packages/_distutils_hack/__init__.py:18: UserWarning: Distutils was imported before Setuptools, but importing Setuptools also replaces the `distutils` module in `sys.modules`. This may lead to undesirable behaviors or errors. To avoid these issues, avoid using distutils directly, ensure that setuptools is installed in the traditional way (e.g. not an editable install), and/or make sure that setuptools is always imported before distutils.\n",
      "  warnings.warn(\n",
      "/Users/alexandreselier/.pyenv/versions/3.10.6/envs/lewagon_current/lib/python3.10/site-packages/_distutils_hack/__init__.py:33: UserWarning: Setuptools is replacing distutils.\n",
      "  warnings.warn(\"Setuptools is replacing distutils.\")\n"
     ]
    },
    {
     "name": "stdout",
     "output_type": "stream",
     "text": [
      "run name: tf_idf_top_20_xgboost_eta_0.3_colsample_bytree_1_max_depth_5.\n",
      "{'fit_duration': 47.94222903251648, 'pred_duration': 0.03644704818725586, 'f1': 0.800996151233869, 'precision': 0.8796618597712581, 'recall': 0.7352452202826267}\n"
     ]
    },
    {
     "name": "stderr",
     "output_type": "stream",
     "text": [
      "/Users/alexandreselier/.pyenv/versions/3.10.6/envs/lewagon_current/lib/python3.10/site-packages/_distutils_hack/__init__.py:18: UserWarning: Distutils was imported before Setuptools, but importing Setuptools also replaces the `distutils` module in `sys.modules`. This may lead to undesirable behaviors or errors. To avoid these issues, avoid using distutils directly, ensure that setuptools is installed in the traditional way (e.g. not an editable install), and/or make sure that setuptools is always imported before distutils.\n",
      "  warnings.warn(\n",
      "/Users/alexandreselier/.pyenv/versions/3.10.6/envs/lewagon_current/lib/python3.10/site-packages/_distutils_hack/__init__.py:33: UserWarning: Setuptools is replacing distutils.\n",
      "  warnings.warn(\"Setuptools is replacing distutils.\")\n"
     ]
    },
    {
     "name": "stdout",
     "output_type": "stream",
     "text": [
      "run name: tf_idf_top_20_xgboost_eta_0.3_colsample_bytree_1_max_depth_6.\n",
      "{'fit_duration': 59.43915104866028, 'pred_duration': 0.04077911376953125, 'f1': 0.7998186352301064, 'precision': 0.8798004987531172, 'recall': 0.7331670822942643}\n",
      "run name: tf_idf_top_20_xgboost_eta_0.3_colsample_bytree_1_max_depth_7.\n",
      "{'fit_duration': 66.74668788909912, 'pred_duration': 0.04399895668029785, 'f1': 0.797193300135808, 'precision': 0.8752485089463221, 'recall': 0.7319201995012469}\n"
     ]
    },
    {
     "name": "stderr",
     "output_type": "stream",
     "text": [
      "/Users/alexandreselier/.pyenv/versions/3.10.6/envs/lewagon_current/lib/python3.10/site-packages/_distutils_hack/__init__.py:18: UserWarning: Distutils was imported before Setuptools, but importing Setuptools also replaces the `distutils` module in `sys.modules`. This may lead to undesirable behaviors or errors. To avoid these issues, avoid using distutils directly, ensure that setuptools is installed in the traditional way (e.g. not an editable install), and/or make sure that setuptools is always imported before distutils.\n",
      "  warnings.warn(\n",
      "/Users/alexandreselier/.pyenv/versions/3.10.6/envs/lewagon_current/lib/python3.10/site-packages/_distutils_hack/__init__.py:33: UserWarning: Setuptools is replacing distutils.\n",
      "  warnings.warn(\"Setuptools is replacing distutils.\")\n"
     ]
    }
   ],
   "source": [
    "for embeddings_name in ['tf_idf_top_20']:\n",
    "    for model_name in ['xgboost']:\n",
    "        for eta in [.1, .3]:\n",
    "            for colsample_bytree in [.5, 1]:\n",
    "                for max_depth in [5, 6, 7]:\n",
    "                            \n",
    "                    run_name = (\n",
    "                        embeddings_name + '_' + model_name + '_eta_' + str(eta) +\n",
    "                        '_colsample_bytree_' + str(colsample_bytree) + '_max_depth_' + str(max_depth)\n",
    "                    )\n",
    "                    \n",
    "                    params = {\n",
    "                        'embeddings_name': embeddings_name, 'model_name': model_name,\n",
    "                        'eta': eta, 'colsample_bytree': colsample_bytree, 'max_depth': max_depth\n",
    "                    }\n",
    "            \n",
    "                    X_train, X_test = X_tf_idf_20_train, X_tf_idf_20_test\n",
    "            \n",
    "                    model = XGBClassifier(\n",
    "                        eta=eta, colsample_bytree=colsample_bytree, max_depth=max_depth,\n",
    "                        random_state=0\n",
    "                    )\n",
    "                    \n",
    "                    fit_start = time.time()\n",
    "                    model.fit(X_train, y_train)\n",
    "                    fit_duration = time.time() - fit_start\n",
    "                    \n",
    "                    pred_start = time.time()\n",
    "                    y_pred = model.predict(X_test)\n",
    "                    pred_duration = time.time() - pred_start\n",
    "                    \n",
    "                    f1 = f1_score(y_test, y_pred, average='micro')\n",
    "                    precision = precision_score(y_test, y_pred, average='micro')\n",
    "                    recall = recall_score(y_test, y_pred, average='micro')\n",
    "                    \n",
    "                    metrics = {\n",
    "                        'fit_duration': fit_duration, 'pred_duration': pred_duration,\n",
    "                        'f1': f1, 'precision': precision, 'recall': recall\n",
    "                    }\n",
    "                    \n",
    "                    with mlflow.start_run(run_name=run_name) as run:\n",
    "                        mlflow.log_params(params)\n",
    "                        mlflow.log_metrics(metrics)\n",
    "                        mlflow.sklearn.log_model(\n",
    "                            sk_model=model, input_example=X_test, artifact_path=artifact_path\n",
    "                        )\n",
    "\n",
    "                    print(f\"run name: {run_name}.\")\n",
    "                    print(metrics)"
   ]
  },
  {
   "cell_type": "code",
   "execution_count": null,
   "id": "14d84334",
   "metadata": {},
   "outputs": [],
   "source": [
    "# Best model is tf_idf_top_20_xgboost_eta_0.3_colsample_bytree_0.5_max_depth_5\n",
    "# with F1 0.8048"
   ]
  },
  {
   "cell_type": "markdown",
   "id": "2769c7c0",
   "metadata": {},
   "source": [
    "# Model for tag prediction app"
   ]
  },
  {
   "cell_type": "code",
   "execution_count": 17,
   "id": "86459e2c",
   "metadata": {},
   "outputs": [],
   "source": [
    "# We're looking for a light, robust and high-performance model for the tag prediction app.\n",
    "\n",
    "# Fine-tuning Logistic Regression on full tf_idf embeddings."
   ]
  },
  {
   "cell_type": "code",
   "execution_count": 19,
   "id": "cd9685f9",
   "metadata": {},
   "outputs": [
    {
     "name": "stderr",
     "output_type": "stream",
     "text": [
      "/Users/alexandreselier/.pyenv/versions/3.10.6/envs/lewagon_current/lib/python3.10/site-packages/_distutils_hack/__init__.py:18: UserWarning: Distutils was imported before Setuptools, but importing Setuptools also replaces the `distutils` module in `sys.modules`. This may lead to undesirable behaviors or errors. To avoid these issues, avoid using distutils directly, ensure that setuptools is installed in the traditional way (e.g. not an editable install), and/or make sure that setuptools is always imported before distutils.\n",
      "  warnings.warn(\n",
      "/Users/alexandreselier/.pyenv/versions/3.10.6/envs/lewagon_current/lib/python3.10/site-packages/_distutils_hack/__init__.py:33: UserWarning: Setuptools is replacing distutils.\n",
      "  warnings.warn(\"Setuptools is replacing distutils.\")\n"
     ]
    },
    {
     "name": "stdout",
     "output_type": "stream",
     "text": [
      "run name: tf_idf_logistic_regression_penalty_l2.\n",
      "{'fit_duration': 25.85276508331299, 'pred_duration': 1.003999948501587, 'f1': 0.696149843912591, 'precision': 0.9304589707927677, 'recall': 0.5561097256857855}\n"
     ]
    },
    {
     "name": "stderr",
     "output_type": "stream",
     "text": [
      "/Users/alexandreselier/.pyenv/versions/3.10.6/envs/lewagon_current/lib/python3.10/site-packages/_distutils_hack/__init__.py:18: UserWarning: Distutils was imported before Setuptools, but importing Setuptools also replaces the `distutils` module in `sys.modules`. This may lead to undesirable behaviors or errors. To avoid these issues, avoid using distutils directly, ensure that setuptools is installed in the traditional way (e.g. not an editable install), and/or make sure that setuptools is always imported before distutils.\n",
      "  warnings.warn(\n",
      "/Users/alexandreselier/.pyenv/versions/3.10.6/envs/lewagon_current/lib/python3.10/site-packages/_distutils_hack/__init__.py:33: UserWarning: Setuptools is replacing distutils.\n",
      "  warnings.warn(\"Setuptools is replacing distutils.\")\n"
     ]
    },
    {
     "name": "stdout",
     "output_type": "stream",
     "text": [
      "run name: tf_idf_logistic_regression_penalty_none.\n",
      "{'fit_duration': 26.63776469230652, 'pred_duration': 1.0262012481689453, 'f1': 0.7937000887311446, 'precision': 0.8510941960038059, 'recall': 0.7435577722360764}\n"
     ]
    }
   ],
   "source": [
    "for embeddings_name in ['tf_idf']:\n",
    "    for model_name in ['logistic_regression']:\n",
    "        for penalty in ['l2', 'none']:\n",
    "                            \n",
    "                    run_name = (\n",
    "                        embeddings_name + '_' + model_name + '_penalty_' + penalty\n",
    "                    )\n",
    "                    \n",
    "                    params = {\n",
    "                        'embeddings_name': embeddings_name, 'model_name': model_name,\n",
    "                        'penalty': penalty\n",
    "                    }\n",
    "            \n",
    "                    X_train, X_test = X_tf_idf_train, X_tf_idf_test\n",
    "            \n",
    "                    model = OneVsRestClassifier(LogisticRegression(penalty=penalty, random_state=0))\n",
    "                    \n",
    "                    fit_start = time.time()\n",
    "                    model.fit(X_train, y_train)\n",
    "                    fit_duration = time.time() - fit_start\n",
    "                    \n",
    "                    pred_start = time.time()\n",
    "                    y_pred = model.predict(X_test)\n",
    "                    pred_duration = time.time() - pred_start\n",
    "                    \n",
    "                    f1 = f1_score(y_test, y_pred, average='micro')\n",
    "                    precision = precision_score(y_test, y_pred, average='micro')\n",
    "                    recall = recall_score(y_test, y_pred, average='micro')\n",
    "                    \n",
    "                    metrics = {\n",
    "                        'fit_duration': fit_duration, 'pred_duration': pred_duration,\n",
    "                        'f1': f1, 'precision': precision, 'recall': recall\n",
    "                    }\n",
    "                    \n",
    "                    with mlflow.start_run(run_name=run_name) as run:\n",
    "                        mlflow.log_params(params)\n",
    "                        mlflow.log_metrics(metrics)\n",
    "                        mlflow.sklearn.log_model(\n",
    "                            sk_model=model, input_example=X_test, artifact_path=artifact_path\n",
    "                        )\n",
    "\n",
    "                        print(f\"run name: {run_name}.\")\n",
    "                    print(metrics)"
   ]
  },
  {
   "cell_type": "code",
   "execution_count": null,
   "id": "1057cb63",
   "metadata": {},
   "outputs": [],
   "source": [
    "# Best Logistic Regression model is with no penalty\n",
    "# with F1 0.7937."
   ]
  },
  {
   "cell_type": "code",
   "execution_count": 20,
   "id": "60396530",
   "metadata": {},
   "outputs": [],
   "source": [
    "best_lr_model_path = 'mlflow-artifacts:/894393323650292179/a4f4d7fe75ca484bbf28925bd1926cd0/artifacts/tag_prediction_22_artifact_path'"
   ]
  },
  {
   "cell_type": "code",
   "execution_count": 21,
   "id": "30d51d6e",
   "metadata": {},
   "outputs": [
    {
     "data": {
      "application/vnd.jupyter.widget-view+json": {
       "model_id": "f73c72654e6c482795d7a52ce669f0ad",
       "version_major": 2,
       "version_minor": 0
      },
      "text/plain": [
       "Downloading artifacts:   0%|          | 0/11 [00:00<?, ?it/s]"
      ]
     },
     "metadata": {},
     "output_type": "display_data"
    },
    {
     "name": "stderr",
     "output_type": "stream",
     "text": [
      "2024/05/04 12:13:34 INFO mlflow.store.artifact.artifact_repo: The progress bar can be disabled by setting the environment variable MLFLOW_ENABLE_ARTIFACTS_PROGRESS_BAR to false\n"
     ]
    }
   ],
   "source": [
    "best_lr_model = mlflow.sklearn.load_model(best_lr_model_path)"
   ]
  },
  {
   "cell_type": "code",
   "execution_count": 22,
   "id": "5f72d6ef",
   "metadata": {},
   "outputs": [],
   "source": [
    "# Saving the model as Pickle file to use it in the tag prediction app."
   ]
  },
  {
   "cell_type": "code",
   "execution_count": 23,
   "id": "f900d00b",
   "metadata": {},
   "outputs": [],
   "source": [
    "pickle.dump(best_lr_model, open('tag_predictor.sav', \"wb\"))"
   ]
  },
  {
   "cell_type": "markdown",
   "id": "a06b5f7c",
   "metadata": {},
   "source": [
    "# Evaluating model drift"
   ]
  },
  {
   "cell_type": "code",
   "execution_count": 33,
   "id": "b850831d",
   "metadata": {},
   "outputs": [],
   "source": [
    "year_range = range(2008, 2024)\n",
    "\n",
    "year_X_y_dict = {}\n",
    "for year in year_range:\n",
    "    year_df = df.loc[df['year'] == year]\n",
    "    \n",
    "    year_X = get_X_tf_idf(\n",
    "        year_df, title_vectorizer, body_vectorizer\n",
    "    )\n",
    "    year_y = year_df[tags]\n",
    "    year_X_y_dict.update({year: {'X': year_X, 'y': year_y}})"
   ]
  },
  {
   "cell_type": "code",
   "execution_count": 34,
   "id": "514452c5",
   "metadata": {},
   "outputs": [
    {
     "name": "stdout",
     "output_type": "stream",
     "text": [
      "year: 2008. n_rows_x: 972. n_rows_y: 972\n",
      "year: 2009. n_rows_x: 1659. n_rows_y: 1659\n",
      "year: 2010. n_rows_x: 1386. n_rows_y: 1386\n",
      "year: 2011. n_rows_x: 1353. n_rows_y: 1353\n",
      "year: 2012. n_rows_x: 999. n_rows_y: 999\n",
      "year: 2013. n_rows_x: 783. n_rows_y: 783\n",
      "year: 2014. n_rows_x: 526. n_rows_y: 526\n",
      "year: 2015. n_rows_x: 390. n_rows_y: 390\n",
      "year: 2016. n_rows_x: 295. n_rows_y: 295\n",
      "year: 2017. n_rows_x: 219. n_rows_y: 219\n",
      "year: 2018. n_rows_x: 124. n_rows_y: 124\n",
      "year: 2019. n_rows_x: 82. n_rows_y: 82\n",
      "year: 2020. n_rows_x: 54. n_rows_y: 54\n",
      "year: 2021. n_rows_x: 21. n_rows_y: 21\n",
      "year: 2022. n_rows_x: 6. n_rows_y: 6\n",
      "year: 2023. n_rows_x: 3. n_rows_y: 3\n"
     ]
    }
   ],
   "source": [
    "for year, X_y in year_X_y_dict.items():\n",
    "    print(f\"year: {year}. n_rows_x: {len(X_y['X'])}. n_rows_y: {len(X_y['y'])}\")"
   ]
  },
  {
   "cell_type": "code",
   "execution_count": 36,
   "id": "6bfb339e",
   "metadata": {
    "scrolled": false
   },
   "outputs": [
    {
     "name": "stderr",
     "output_type": "stream",
     "text": [
      "/Users/alexandreselier/.pyenv/versions/3.10.6/envs/lewagon_current/lib/python3.10/site-packages/_distutils_hack/__init__.py:18: UserWarning: Distutils was imported before Setuptools, but importing Setuptools also replaces the `distutils` module in `sys.modules`. This may lead to undesirable behaviors or errors. To avoid these issues, avoid using distutils directly, ensure that setuptools is installed in the traditional way (e.g. not an editable install), and/or make sure that setuptools is always imported before distutils.\n",
      "  warnings.warn(\n",
      "/Users/alexandreselier/.pyenv/versions/3.10.6/envs/lewagon_current/lib/python3.10/site-packages/_distutils_hack/__init__.py:33: UserWarning: Setuptools is replacing distutils.\n",
      "  warnings.warn(\"Setuptools is replacing distutils.\")\n"
     ]
    },
    {
     "name": "stdout",
     "output_type": "stream",
     "text": [
      "run name: tf_idf_best_logistic_regression_year_2008.\n",
      "{'pred_duration': 1.2129549980163574, 'f1': 0.9665703673132481, 'precision': 0.9758333333333333, 'recall': 0.9574816026165167}\n"
     ]
    },
    {
     "name": "stderr",
     "output_type": "stream",
     "text": [
      "/Users/alexandreselier/.pyenv/versions/3.10.6/envs/lewagon_current/lib/python3.10/site-packages/_distutils_hack/__init__.py:18: UserWarning: Distutils was imported before Setuptools, but importing Setuptools also replaces the `distutils` module in `sys.modules`. This may lead to undesirable behaviors or errors. To avoid these issues, avoid using distutils directly, ensure that setuptools is installed in the traditional way (e.g. not an editable install), and/or make sure that setuptools is always imported before distutils.\n",
      "  warnings.warn(\n",
      "/Users/alexandreselier/.pyenv/versions/3.10.6/envs/lewagon_current/lib/python3.10/site-packages/_distutils_hack/__init__.py:33: UserWarning: Setuptools is replacing distutils.\n",
      "  warnings.warn(\"Setuptools is replacing distutils.\")\n"
     ]
    },
    {
     "name": "stdout",
     "output_type": "stream",
     "text": [
      "run name: tf_idf_best_logistic_regression_year_2009.\n",
      "{'pred_duration': 1.2447571754455566, 'f1': 0.9624236730859558, 'precision': 0.9724727100142383, 'recall': 0.9525801952580195}\n"
     ]
    },
    {
     "name": "stderr",
     "output_type": "stream",
     "text": [
      "/Users/alexandreselier/.pyenv/versions/3.10.6/envs/lewagon_current/lib/python3.10/site-packages/_distutils_hack/__init__.py:18: UserWarning: Distutils was imported before Setuptools, but importing Setuptools also replaces the `distutils` module in `sys.modules`. This may lead to undesirable behaviors or errors. To avoid these issues, avoid using distutils directly, ensure that setuptools is installed in the traditional way (e.g. not an editable install), and/or make sure that setuptools is always imported before distutils.\n",
      "  warnings.warn(\n",
      "/Users/alexandreselier/.pyenv/versions/3.10.6/envs/lewagon_current/lib/python3.10/site-packages/_distutils_hack/__init__.py:33: UserWarning: Setuptools is replacing distutils.\n",
      "  warnings.warn(\"Setuptools is replacing distutils.\")\n"
     ]
    },
    {
     "name": "stdout",
     "output_type": "stream",
     "text": [
      "run name: tf_idf_best_logistic_regression_year_2010.\n",
      "{'pred_duration': 1.26112699508667, 'f1': 0.9621087314662274, 'precision': 0.9727928928373126, 'recall': 0.9516567083107007}\n"
     ]
    },
    {
     "name": "stderr",
     "output_type": "stream",
     "text": [
      "/Users/alexandreselier/.pyenv/versions/3.10.6/envs/lewagon_current/lib/python3.10/site-packages/_distutils_hack/__init__.py:18: UserWarning: Distutils was imported before Setuptools, but importing Setuptools also replaces the `distutils` module in `sys.modules`. This may lead to undesirable behaviors or errors. To avoid these issues, avoid using distutils directly, ensure that setuptools is installed in the traditional way (e.g. not an editable install), and/or make sure that setuptools is always imported before distutils.\n",
      "  warnings.warn(\n",
      "/Users/alexandreselier/.pyenv/versions/3.10.6/envs/lewagon_current/lib/python3.10/site-packages/_distutils_hack/__init__.py:33: UserWarning: Setuptools is replacing distutils.\n",
      "  warnings.warn(\"Setuptools is replacing distutils.\")\n"
     ]
    },
    {
     "name": "stdout",
     "output_type": "stream",
     "text": [
      "run name: tf_idf_best_logistic_regression_year_2011.\n",
      "{'pred_duration': 1.2160162925720215, 'f1': 0.9596069868995633, 'precision': 0.9782971619365609, 'recall': 0.9416175682913765}\n"
     ]
    },
    {
     "name": "stderr",
     "output_type": "stream",
     "text": [
      "/Users/alexandreselier/.pyenv/versions/3.10.6/envs/lewagon_current/lib/python3.10/site-packages/_distutils_hack/__init__.py:18: UserWarning: Distutils was imported before Setuptools, but importing Setuptools also replaces the `distutils` module in `sys.modules`. This may lead to undesirable behaviors or errors. To avoid these issues, avoid using distutils directly, ensure that setuptools is installed in the traditional way (e.g. not an editable install), and/or make sure that setuptools is always imported before distutils.\n",
      "  warnings.warn(\n",
      "/Users/alexandreselier/.pyenv/versions/3.10.6/envs/lewagon_current/lib/python3.10/site-packages/_distutils_hack/__init__.py:33: UserWarning: Setuptools is replacing distutils.\n",
      "  warnings.warn(\"Setuptools is replacing distutils.\")\n"
     ]
    },
    {
     "name": "stdout",
     "output_type": "stream",
     "text": [
      "run name: tf_idf_best_logistic_regression_year_2012.\n",
      "{'pred_duration': 1.274184226989746, 'f1': 0.9583489681050658, 'precision': 0.9659606656580938, 'recall': 0.9508562918838421}\n"
     ]
    },
    {
     "name": "stderr",
     "output_type": "stream",
     "text": [
      "/Users/alexandreselier/.pyenv/versions/3.10.6/envs/lewagon_current/lib/python3.10/site-packages/_distutils_hack/__init__.py:18: UserWarning: Distutils was imported before Setuptools, but importing Setuptools also replaces the `distutils` module in `sys.modules`. This may lead to undesirable behaviors or errors. To avoid these issues, avoid using distutils directly, ensure that setuptools is installed in the traditional way (e.g. not an editable install), and/or make sure that setuptools is always imported before distutils.\n",
      "  warnings.warn(\n",
      "/Users/alexandreselier/.pyenv/versions/3.10.6/envs/lewagon_current/lib/python3.10/site-packages/_distutils_hack/__init__.py:33: UserWarning: Setuptools is replacing distutils.\n",
      "  warnings.warn(\"Setuptools is replacing distutils.\")\n"
     ]
    },
    {
     "name": "stdout",
     "output_type": "stream",
     "text": [
      "run name: tf_idf_best_logistic_regression_year_2013.\n",
      "{'pred_duration': 1.1256599426269531, 'f1': 0.963924963924964, 'precision': 0.9756572541382668, 'recall': 0.9524714828897338}\n"
     ]
    },
    {
     "name": "stderr",
     "output_type": "stream",
     "text": [
      "/Users/alexandreselier/.pyenv/versions/3.10.6/envs/lewagon_current/lib/python3.10/site-packages/_distutils_hack/__init__.py:18: UserWarning: Distutils was imported before Setuptools, but importing Setuptools also replaces the `distutils` module in `sys.modules`. This may lead to undesirable behaviors or errors. To avoid these issues, avoid using distutils directly, ensure that setuptools is installed in the traditional way (e.g. not an editable install), and/or make sure that setuptools is always imported before distutils.\n",
      "  warnings.warn(\n",
      "/Users/alexandreselier/.pyenv/versions/3.10.6/envs/lewagon_current/lib/python3.10/site-packages/_distutils_hack/__init__.py:33: UserWarning: Setuptools is replacing distutils.\n",
      "  warnings.warn(\"Setuptools is replacing distutils.\")\n"
     ]
    },
    {
     "name": "stdout",
     "output_type": "stream",
     "text": [
      "run name: tf_idf_best_logistic_regression_year_2014.\n",
      "{'pred_duration': 1.1338510513305664, 'f1': 0.9614285714285715, 'precision': 0.9725433526011561, 'recall': 0.9505649717514124}\n"
     ]
    },
    {
     "name": "stderr",
     "output_type": "stream",
     "text": [
      "/Users/alexandreselier/.pyenv/versions/3.10.6/envs/lewagon_current/lib/python3.10/site-packages/_distutils_hack/__init__.py:18: UserWarning: Distutils was imported before Setuptools, but importing Setuptools also replaces the `distutils` module in `sys.modules`. This may lead to undesirable behaviors or errors. To avoid these issues, avoid using distutils directly, ensure that setuptools is installed in the traditional way (e.g. not an editable install), and/or make sure that setuptools is always imported before distutils.\n",
      "  warnings.warn(\n",
      "/Users/alexandreselier/.pyenv/versions/3.10.6/envs/lewagon_current/lib/python3.10/site-packages/_distutils_hack/__init__.py:33: UserWarning: Setuptools is replacing distutils.\n",
      "  warnings.warn(\"Setuptools is replacing distutils.\")\n"
     ]
    },
    {
     "name": "stdout",
     "output_type": "stream",
     "text": [
      "run name: tf_idf_best_logistic_regression_year_2015.\n",
      "{'pred_duration': 1.0403571128845215, 'f1': 0.9646418857660924, 'precision': 0.9779411764705882, 'recall': 0.9516994633273703}\n"
     ]
    },
    {
     "name": "stderr",
     "output_type": "stream",
     "text": [
      "/Users/alexandreselier/.pyenv/versions/3.10.6/envs/lewagon_current/lib/python3.10/site-packages/_distutils_hack/__init__.py:18: UserWarning: Distutils was imported before Setuptools, but importing Setuptools also replaces the `distutils` module in `sys.modules`. This may lead to undesirable behaviors or errors. To avoid these issues, avoid using distutils directly, ensure that setuptools is installed in the traditional way (e.g. not an editable install), and/or make sure that setuptools is always imported before distutils.\n",
      "  warnings.warn(\n",
      "/Users/alexandreselier/.pyenv/versions/3.10.6/envs/lewagon_current/lib/python3.10/site-packages/_distutils_hack/__init__.py:33: UserWarning: Setuptools is replacing distutils.\n",
      "  warnings.warn(\"Setuptools is replacing distutils.\")\n"
     ]
    },
    {
     "name": "stdout",
     "output_type": "stream",
     "text": [
      "run name: tf_idf_best_logistic_regression_year_2016.\n",
      "{'pred_duration': 0.9988622665405273, 'f1': 0.9353007945516458, 'precision': 0.9603729603729604, 'recall': 0.911504424778761}\n"
     ]
    },
    {
     "name": "stderr",
     "output_type": "stream",
     "text": [
      "/Users/alexandreselier/.pyenv/versions/3.10.6/envs/lewagon_current/lib/python3.10/site-packages/_distutils_hack/__init__.py:18: UserWarning: Distutils was imported before Setuptools, but importing Setuptools also replaces the `distutils` module in `sys.modules`. This may lead to undesirable behaviors or errors. To avoid these issues, avoid using distutils directly, ensure that setuptools is installed in the traditional way (e.g. not an editable install), and/or make sure that setuptools is always imported before distutils.\n",
      "  warnings.warn(\n",
      "/Users/alexandreselier/.pyenv/versions/3.10.6/envs/lewagon_current/lib/python3.10/site-packages/_distutils_hack/__init__.py:33: UserWarning: Setuptools is replacing distutils.\n",
      "  warnings.warn(\"Setuptools is replacing distutils.\")\n"
     ]
    },
    {
     "name": "stdout",
     "output_type": "stream",
     "text": [
      "run name: tf_idf_best_logistic_regression_year_2017.\n",
      "{'pred_duration': 1.106081247329712, 'f1': 0.9612903225806452, 'precision': 0.9834983498349835, 'recall': 0.9400630914826499}\n"
     ]
    },
    {
     "name": "stderr",
     "output_type": "stream",
     "text": [
      "/Users/alexandreselier/.pyenv/versions/3.10.6/envs/lewagon_current/lib/python3.10/site-packages/_distutils_hack/__init__.py:18: UserWarning: Distutils was imported before Setuptools, but importing Setuptools also replaces the `distutils` module in `sys.modules`. This may lead to undesirable behaviors or errors. To avoid these issues, avoid using distutils directly, ensure that setuptools is installed in the traditional way (e.g. not an editable install), and/or make sure that setuptools is always imported before distutils.\n",
      "  warnings.warn(\n",
      "/Users/alexandreselier/.pyenv/versions/3.10.6/envs/lewagon_current/lib/python3.10/site-packages/_distutils_hack/__init__.py:33: UserWarning: Setuptools is replacing distutils.\n",
      "  warnings.warn(\"Setuptools is replacing distutils.\")\n"
     ]
    },
    {
     "name": "stdout",
     "output_type": "stream",
     "text": [
      "run name: tf_idf_best_logistic_regression_year_2018.\n",
      "{'pred_duration': 0.9343729019165039, 'f1': 0.9659090909090909, 'precision': 0.9714285714285714, 'recall': 0.96045197740113}\n"
     ]
    },
    {
     "name": "stderr",
     "output_type": "stream",
     "text": [
      "/Users/alexandreselier/.pyenv/versions/3.10.6/envs/lewagon_current/lib/python3.10/site-packages/_distutils_hack/__init__.py:18: UserWarning: Distutils was imported before Setuptools, but importing Setuptools also replaces the `distutils` module in `sys.modules`. This may lead to undesirable behaviors or errors. To avoid these issues, avoid using distutils directly, ensure that setuptools is installed in the traditional way (e.g. not an editable install), and/or make sure that setuptools is always imported before distutils.\n",
      "  warnings.warn(\n",
      "/Users/alexandreselier/.pyenv/versions/3.10.6/envs/lewagon_current/lib/python3.10/site-packages/_distutils_hack/__init__.py:33: UserWarning: Setuptools is replacing distutils.\n",
      "  warnings.warn(\"Setuptools is replacing distutils.\")\n"
     ]
    },
    {
     "name": "stdout",
     "output_type": "stream",
     "text": [
      "run name: tf_idf_best_logistic_regression_year_2019.\n",
      "{'pred_duration': 0.9455790519714355, 'f1': 0.9351851851851851, 'precision': 0.9528301886792453, 'recall': 0.9181818181818182}\n"
     ]
    },
    {
     "name": "stderr",
     "output_type": "stream",
     "text": [
      "/Users/alexandreselier/.pyenv/versions/3.10.6/envs/lewagon_current/lib/python3.10/site-packages/_distutils_hack/__init__.py:18: UserWarning: Distutils was imported before Setuptools, but importing Setuptools also replaces the `distutils` module in `sys.modules`. This may lead to undesirable behaviors or errors. To avoid these issues, avoid using distutils directly, ensure that setuptools is installed in the traditional way (e.g. not an editable install), and/or make sure that setuptools is always imported before distutils.\n",
      "  warnings.warn(\n",
      "/Users/alexandreselier/.pyenv/versions/3.10.6/envs/lewagon_current/lib/python3.10/site-packages/_distutils_hack/__init__.py:33: UserWarning: Setuptools is replacing distutils.\n",
      "  warnings.warn(\"Setuptools is replacing distutils.\")\n"
     ]
    },
    {
     "name": "stdout",
     "output_type": "stream",
     "text": [
      "run name: tf_idf_best_logistic_regression_year_2020.\n",
      "{'pred_duration': 1.237131118774414, 'f1': 0.9659863945578231, 'precision': 0.9726027397260274, 'recall': 0.9594594594594594}\n"
     ]
    },
    {
     "name": "stderr",
     "output_type": "stream",
     "text": [
      "/Users/alexandreselier/.pyenv/versions/3.10.6/envs/lewagon_current/lib/python3.10/site-packages/_distutils_hack/__init__.py:18: UserWarning: Distutils was imported before Setuptools, but importing Setuptools also replaces the `distutils` module in `sys.modules`. This may lead to undesirable behaviors or errors. To avoid these issues, avoid using distutils directly, ensure that setuptools is installed in the traditional way (e.g. not an editable install), and/or make sure that setuptools is always imported before distutils.\n",
      "  warnings.warn(\n",
      "/Users/alexandreselier/.pyenv/versions/3.10.6/envs/lewagon_current/lib/python3.10/site-packages/_distutils_hack/__init__.py:33: UserWarning: Setuptools is replacing distutils.\n",
      "  warnings.warn(\"Setuptools is replacing distutils.\")\n"
     ]
    },
    {
     "name": "stdout",
     "output_type": "stream",
     "text": [
      "run name: tf_idf_best_logistic_regression_year_2021.\n",
      "{'pred_duration': 1.0056202411651611, 'f1': 0.927536231884058, 'precision': 0.9696969696969697, 'recall': 0.8888888888888888}\n"
     ]
    },
    {
     "name": "stderr",
     "output_type": "stream",
     "text": [
      "/Users/alexandreselier/.pyenv/versions/3.10.6/envs/lewagon_current/lib/python3.10/site-packages/_distutils_hack/__init__.py:18: UserWarning: Distutils was imported before Setuptools, but importing Setuptools also replaces the `distutils` module in `sys.modules`. This may lead to undesirable behaviors or errors. To avoid these issues, avoid using distutils directly, ensure that setuptools is installed in the traditional way (e.g. not an editable install), and/or make sure that setuptools is always imported before distutils.\n",
      "  warnings.warn(\n",
      "/Users/alexandreselier/.pyenv/versions/3.10.6/envs/lewagon_current/lib/python3.10/site-packages/_distutils_hack/__init__.py:33: UserWarning: Setuptools is replacing distutils.\n",
      "  warnings.warn(\"Setuptools is replacing distutils.\")\n"
     ]
    },
    {
     "name": "stdout",
     "output_type": "stream",
     "text": [
      "run name: tf_idf_best_logistic_regression_year_2022.\n",
      "{'pred_duration': 1.0161619186401367, 'f1': 0.7058823529411765, 'precision': 0.75, 'recall': 0.6666666666666666}\n"
     ]
    },
    {
     "name": "stderr",
     "output_type": "stream",
     "text": [
      "/Users/alexandreselier/.pyenv/versions/3.10.6/envs/lewagon_current/lib/python3.10/site-packages/_distutils_hack/__init__.py:18: UserWarning: Distutils was imported before Setuptools, but importing Setuptools also replaces the `distutils` module in `sys.modules`. This may lead to undesirable behaviors or errors. To avoid these issues, avoid using distutils directly, ensure that setuptools is installed in the traditional way (e.g. not an editable install), and/or make sure that setuptools is always imported before distutils.\n",
      "  warnings.warn(\n",
      "/Users/alexandreselier/.pyenv/versions/3.10.6/envs/lewagon_current/lib/python3.10/site-packages/_distutils_hack/__init__.py:33: UserWarning: Setuptools is replacing distutils.\n",
      "  warnings.warn(\"Setuptools is replacing distutils.\")\n"
     ]
    },
    {
     "name": "stdout",
     "output_type": "stream",
     "text": [
      "run name: tf_idf_best_logistic_regression_year_2023.\n",
      "{'pred_duration': 0.9800388813018799, 'f1': 0.7499999999999999, 'precision': 1.0, 'recall': 0.6}\n"
     ]
    }
   ],
   "source": [
    "for embeddings_name in ['tf_idf']:\n",
    "    for model_name in ['logistic_regression']:\n",
    "        for year in year_range:\n",
    "            run_name = (\n",
    "                embeddings_name + '_best_' + model_name\n",
    "                + '_year_' + str(year)\n",
    "            )\n",
    "            \n",
    "            params = {\n",
    "                'embeddings_name': embeddings_name, 'model_name': model_name,\n",
    "                'year': year\n",
    "            }\n",
    "            \n",
    "            X_test = year_X_y_dict[year]['X']\n",
    "            y_test = year_X_y_dict[year]['y']\n",
    "            \n",
    "            model = best_lr_model\n",
    "            \n",
    "            pred_start = time.time()\n",
    "            y_pred = model.predict(X_test)\n",
    "            pred_duration = time.time() - pred_start\n",
    "            \n",
    "            f1 = f1_score(y_test, y_pred, average='micro')\n",
    "            precision = precision_score(y_test, y_pred, average='micro')\n",
    "            recall = recall_score(y_test, y_pred, average='micro')\n",
    "            \n",
    "            metrics = {\n",
    "                'pred_duration': pred_duration,\n",
    "                'f1': f1, 'precision': precision, 'recall': recall\n",
    "            }\n",
    "            \n",
    "            with mlflow.start_run(run_name=run_name) as run:\n",
    "                mlflow.log_params(params)\n",
    "                mlflow.log_metrics(metrics)\n",
    "                mlflow.sklearn.log_model(\n",
    "                    sk_model=model, input_example=X_test, artifact_path=artifact_path\n",
    "                )\n",
    "\n",
    "            print(f\"run name: {run_name}.\")\n",
    "            print(metrics)"
   ]
  },
  {
   "cell_type": "code",
   "execution_count": null,
   "id": "38845417",
   "metadata": {},
   "outputs": [],
   "source": []
  }
 ],
 "metadata": {
  "kernelspec": {
   "display_name": "Python 3 (ipykernel)",
   "language": "python",
   "name": "python3"
  },
  "language_info": {
   "codemirror_mode": {
    "name": "ipython",
    "version": 3
   },
   "file_extension": ".py",
   "mimetype": "text/x-python",
   "name": "python",
   "nbconvert_exporter": "python",
   "pygments_lexer": "ipython3",
   "version": "3.10.6"
  },
  "toc": {
   "base_numbering": 1,
   "nav_menu": {},
   "number_sections": true,
   "sideBar": true,
   "skip_h1_title": false,
   "title_cell": "Table of Contents",
   "title_sidebar": "Contents",
   "toc_cell": false,
   "toc_position": {},
   "toc_section_display": true,
   "toc_window_display": false
  }
 },
 "nbformat": 4,
 "nbformat_minor": 5
}
